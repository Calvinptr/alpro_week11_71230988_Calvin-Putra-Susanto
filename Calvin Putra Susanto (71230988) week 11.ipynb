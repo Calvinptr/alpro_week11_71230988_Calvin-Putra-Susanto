{
 "cells": [
  {
   "cell_type": "code",
   "execution_count": 1,
   "id": "8f3ea519",
   "metadata": {},
   "outputs": [
    {
     "name": "stdout",
     "output_type": "stream",
     "text": [
      "key\tvalue\titem\n",
      "1 \t 10 \t 1\n",
      "2 \t 20 \t 2\n",
      "3 \t 30 \t 3\n",
      "4 \t 40 \t 4\n",
      "5 \t 50 \t 5\n",
      "6 \t 60 \t 6\n"
     ]
    }
   ],
   "source": [
    "# latihan 10.1\n",
    "Dictionary = {1: 10, 2: 20, 3: 30, 4: 40, 5: 50, 6: 60}\n",
    "\n",
    "print(f\"key\\tvalue\\titem\")\n",
    "for key, value in Dictionary.items():\n",
    "    print(key,\"\\t\", value,\"\\t\", key)"
   ]
  },
  {
   "cell_type": "code",
   "execution_count": 2,
   "id": "f26d2148",
   "metadata": {},
   "outputs": [
    {
     "name": "stdout",
     "output_type": "stream",
     "text": [
      "{'red': '#FF0000', 'green': '#008000', 'blue': '#0000FF'}\n"
     ]
    }
   ],
   "source": [
    "# latihan 10.2\n",
    "list1 = [\"red\", \"green\", \"blue\"]\n",
    "list2 = [\"#FF0000\", \"#008000\", \"#0000FF\"]\n",
    "hasil = {}\n",
    "for i in range(len(list1)):\n",
    "    hasil[list1[i]] = list2[i]\n",
    "print(hasil)"
   ]
  },
  {
   "cell_type": "code",
   "execution_count": null,
   "id": "7851a65a",
   "metadata": {},
   "outputs": [],
   "source": [
    "# latihan 10.3\n",
    "file_name = input(\"Masukkan nama file : \")\n",
    "file = open(file_name, \"r\")\n",
    "baca_baris = file.readlines()\n",
    "count = 0\n",
    "a = []\n",
    "b = []\n",
    "dictWord = dict()\n",
    "for line in baca_baris:\n",
    "    if line.startswith(\"From\"):\n",
    "        if line.endswith(\"2008\\n\"):\n",
    "            a.append(line.split(\" \"))\n",
    "for i in range(len(a)):\n",
    "    b.append(a[i][1])\n",
    "for kata in b:\n",
    "    if kata not in dictWord:\n",
    "        dictWord[kata] = 1\n",
    "    else:\n",
    "        dictWord[kata] = dictWord[kata] + 1   \n",
    "print(dictWord)"
   ]
  },
  {
   "cell_type": "code",
   "execution_count": null,
   "id": "77d6a945",
   "metadata": {},
   "outputs": [],
   "source": [
    "# latihan 10.4\n",
    "file_name = input(\"Masukkan nama file: \")\n",
    "file = open(file_name, \"r\")\n",
    "baca_baris = file.readlines()\n",
    "count = 0\n",
    "a = []\n",
    "b = []\n",
    "c = []\n",
    "dictWord = dict()\n",
    "for line in baca_baris:\n",
    "    if line.startswith(\"From\"):\n",
    "        if line.endswith(\"2008\\n\"):\n",
    "            a.append(line.split())\n",
    "for i in range(len(a)):\n",
    "    b.append(a[i][1])\n",
    "for j in b:\n",
    "    gmail = j\n",
    "    blkg_gmail = gmail.split(\"@\")\n",
    "    c.append(blkg_gmail[1])\n",
    "for total in c:\n",
    "    if total not in dictWord:\n",
    "        dictWord[total] = 1\n",
    "    else:\n",
    "        dictWord[total] = dictWord[total] + 1\n",
    "print(dictWord)"
   ]
  }
 ],
 "metadata": {
  "kernelspec": {
   "display_name": "Python 3 (ipykernel)",
   "language": "python",
   "name": "python3"
  },
  "language_info": {
   "codemirror_mode": {
    "name": "ipython",
    "version": 3
   },
   "file_extension": ".py",
   "mimetype": "text/x-python",
   "name": "python",
   "nbconvert_exporter": "python",
   "pygments_lexer": "ipython3",
   "version": "3.11.5"
  }
 },
 "nbformat": 4,
 "nbformat_minor": 5
}
